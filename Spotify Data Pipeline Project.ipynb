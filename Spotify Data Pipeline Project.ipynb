{
 "cells": [
  {
   "cell_type": "code",
   "execution_count": 1,
   "id": "3b4fd79c",
   "metadata": {},
   "outputs": [
    {
     "name": "stdout",
     "output_type": "stream",
     "text": [
      "Defaulting to user installation because normal site-packages is not writeable\n",
      "Requirement already satisfied: spotipy in c:\\users\\91975\\appdata\\roaming\\python\\python310\\site-packages (2.24.0)\n",
      "Requirement already satisfied: redis>=3.5.3 in c:\\users\\91975\\appdata\\roaming\\python\\python310\\site-packages (from spotipy) (5.0.8)\n",
      "Requirement already satisfied: requests>=2.25.0 in c:\\users\\91975\\appdata\\roaming\\python\\python310\\site-packages (from spotipy) (2.32.3)\n",
      "Requirement already satisfied: urllib3>=1.26.0 in c:\\users\\91975\\appdata\\roaming\\python\\python310\\site-packages (from spotipy) (2.2.2)\n",
      "Requirement already satisfied: async-timeout>=4.0.3 in c:\\users\\91975\\appdata\\roaming\\python\\python310\\site-packages (from redis>=3.5.3->spotipy) (4.0.3)\n",
      "Requirement already satisfied: charset-normalizer<4,>=2 in c:\\users\\91975\\appdata\\roaming\\python\\python310\\site-packages (from requests>=2.25.0->spotipy) (3.3.2)\n",
      "Requirement already satisfied: idna<4,>=2.5 in c:\\users\\91975\\appdata\\roaming\\python\\python310\\site-packages (from requests>=2.25.0->spotipy) (3.4)\n",
      "Requirement already satisfied: certifi>=2017.4.17 in c:\\users\\91975\\appdata\\roaming\\python\\python310\\site-packages (from requests>=2.25.0->spotipy) (2024.6.2)\n"
     ]
    }
   ],
   "source": [
    "!pip install spotipy"
   ]
  },
  {
   "cell_type": "code",
   "execution_count": 2,
   "id": "d127bf5e",
   "metadata": {},
   "outputs": [],
   "source": [
    "import pandas as pd\n",
    "import spotipy\n",
    "from spotipy.oauth2 import SpotifyClientCredentials"
   ]
  },
  {
   "cell_type": "code",
   "execution_count": 3,
   "id": "0d078a29",
   "metadata": {},
   "outputs": [],
   "source": [
    "client_id = 'ca60b954de22488eac9570c4c7b1efd5'\n",
    "client_secret = '4447fe73f2e042eba4af8aeefe87d231'"
   ]
  },
  {
   "cell_type": "code",
   "execution_count": 4,
   "id": "48b4f0ef",
   "metadata": {},
   "outputs": [],
   "source": [
    "# Authenticate using SpotifyClientCredentials\n",
    "client_credentials_manager = SpotifyClientCredentials(client_id = client_id, client_secret = client_secret)"
   ]
  },
  {
   "cell_type": "code",
   "execution_count": 5,
   "id": "a0f853ef",
   "metadata": {},
   "outputs": [],
   "source": [
    "sp = spotipy.Spotify(client_credentials_manager = client_credentials_manager)"
   ]
  },
  {
   "cell_type": "code",
   "execution_count": 6,
   "id": "c2b289e5",
   "metadata": {},
   "outputs": [],
   "source": [
    "playlist_link = \"https://open.spotify.com/playlist/37i9dQZEVXbMDoHDwVN2tF\""
   ]
  },
  {
   "cell_type": "code",
   "execution_count": 7,
   "id": "0c42fbaa",
   "metadata": {},
   "outputs": [],
   "source": [
    "playlist_URI = playlist_link.split(\"/\")[-1]"
   ]
  },
  {
   "cell_type": "code",
   "execution_count": 8,
   "id": "f8bc86f9",
   "metadata": {},
   "outputs": [],
   "source": [
    "data = sp.playlist_tracks(playlist_URI)"
   ]
  },
  {
   "cell_type": "code",
   "execution_count": 53,
   "id": "4761e031",
   "metadata": {
    "scrolled": true
   },
   "outputs": [
    {
     "name": "stdout",
     "output_type": "stream",
     "text": [
      "href\n",
      "items\n",
      "limit\n",
      "next\n",
      "offset\n",
      "previous\n",
      "total\n"
     ]
    }
   ],
   "source": [
    "for section in data:\n",
    "    print(section)"
   ]
  },
  {
   "cell_type": "code",
   "execution_count": 66,
   "id": "b92fe804",
   "metadata": {},
   "outputs": [
    {
     "name": "stdout",
     "output_type": "stream",
     "text": [
      "added_at\n",
      "added_by\n",
      "is_local\n",
      "primary_color\n",
      "track\n",
      "video_thumbnail\n"
     ]
    }
   ],
   "source": [
    "row = data['items'][0]\n",
    "\n",
    "for key, value in row.items():\n",
    "    print(key)"
   ]
  },
  {
   "cell_type": "markdown",
   "id": "735e3ceb",
   "metadata": {},
   "source": [
    "### Now extracting the required data"
   ]
  },
  {
   "cell_type": "code",
   "execution_count": 9,
   "id": "3c6ff677",
   "metadata": {},
   "outputs": [
    {
     "data": {
      "text/plain": [
       "'Die With A Smile'"
      ]
     },
     "execution_count": 9,
     "metadata": {},
     "output_type": "execute_result"
    }
   ],
   "source": [
    "data['items'][0]['track']['album']['name']"
   ]
  },
  {
   "cell_type": "code",
   "execution_count": 10,
   "id": "ba140b04",
   "metadata": {},
   "outputs": [
    {
     "data": {
      "text/plain": [
       "'10FLjwfpbxLmW8c25Xyc2N'"
      ]
     },
     "execution_count": 10,
     "metadata": {},
     "output_type": "execute_result"
    }
   ],
   "source": [
    "data['items'][0]['track']['album']['id']"
   ]
  },
  {
   "cell_type": "code",
   "execution_count": 11,
   "id": "0b6d846d",
   "metadata": {},
   "outputs": [
    {
     "data": {
      "text/plain": [
       "1"
      ]
     },
     "execution_count": 11,
     "metadata": {},
     "output_type": "execute_result"
    }
   ],
   "source": [
    "data['items'][0]['track']['album']['total_tracks']"
   ]
  },
  {
   "cell_type": "code",
   "execution_count": 12,
   "id": "6e9072d5",
   "metadata": {},
   "outputs": [
    {
     "data": {
      "text/plain": [
       "'2024-08-16'"
      ]
     },
     "execution_count": 12,
     "metadata": {},
     "output_type": "execute_result"
    }
   ],
   "source": [
    "data['items'][0]['track']['album']['release_date']"
   ]
  },
  {
   "cell_type": "code",
   "execution_count": 13,
   "id": "c6ae1d11",
   "metadata": {},
   "outputs": [
    {
     "data": {
      "text/plain": [
       "'https://open.spotify.com/album/10FLjwfpbxLmW8c25Xyc2N'"
      ]
     },
     "execution_count": 13,
     "metadata": {},
     "output_type": "execute_result"
    }
   ],
   "source": [
    "data['items'][0]['track']['album']['external_urls']['spotify']"
   ]
  },
  {
   "cell_type": "code",
   "execution_count": 14,
   "id": "8b02cc34",
   "metadata": {},
   "outputs": [],
   "source": [
    "album_list = []\n",
    "for row in data['items']:\n",
    "    album_id = row['track']['album']['id']\n",
    "    album_name = row['track']['album']['name']\n",
    "    album_release_date = row['track']['album']['release_date']\n",
    "    album_total_tracks = row['track']['album']['total_tracks']\n",
    "    album_url = row['track']['album']['external_urls']['spotify']\n",
    "    album_dict = {'album_id' :album_id, 'album_name' :album_name, 'release_date' :album_release_date, \n",
    "                    'total_tracks' :album_total_tracks, 'url' :album_url}\n",
    "    album_list.append(album_dict)"
   ]
  },
  {
   "cell_type": "code",
   "execution_count": 15,
   "id": "d7493334",
   "metadata": {},
   "outputs": [
    {
     "data": {
      "text/plain": [
       "[{'album_id': '10FLjwfpbxLmW8c25Xyc2N',\n",
       "  'album_name': 'Die With A Smile',\n",
       "  'release_date': '2024-08-16',\n",
       "  'total_tracks': 1,\n",
       "  'url': 'https://open.spotify.com/album/10FLjwfpbxLmW8c25Xyc2N'},\n",
       " {'album_id': '7aJuG4TFXa2hmE4z1yxc3n',\n",
       "  'album_name': 'HIT ME HARD AND SOFT',\n",
       "  'release_date': '2024-05-17',\n",
       "  'total_tracks': 10,\n",
       "  'url': 'https://open.spotify.com/album/7aJuG4TFXa2hmE4z1yxc3n'},\n",
       " {'album_id': '3iPSVi54hsacKKl1xIR2eH',\n",
       "  'album_name': \"Short n' Sweet\",\n",
       "  'release_date': '2024-08-23',\n",
       "  'total_tracks': 12,\n",
       "  'url': 'https://open.spotify.com/album/3iPSVi54hsacKKl1xIR2eH'}]"
      ]
     },
     "execution_count": 15,
     "metadata": {},
     "output_type": "execute_result"
    }
   ],
   "source": [
    "album_list[:3] # top 3"
   ]
  },
  {
   "cell_type": "code",
   "execution_count": 16,
   "id": "f1474730",
   "metadata": {},
   "outputs": [
    {
     "data": {
      "text/plain": [
       "'1HY2Jd0NmPuamShAr6KMms'"
      ]
     },
     "execution_count": 16,
     "metadata": {},
     "output_type": "execute_result"
    }
   ],
   "source": [
    "data['items'][0]['track']['artists'][0]['id']"
   ]
  },
  {
   "cell_type": "code",
   "execution_count": 17,
   "id": "47f6a018",
   "metadata": {},
   "outputs": [],
   "source": [
    "artist_list = []\n",
    "for row in data['items']:\n",
    "    for key, value in row.items():\n",
    "        if key == 'track':\n",
    "            for artist in value['artists']:\n",
    "                artist_dict = {'artist_id' :artist['id'], 'artist_name' :artist['name'],\n",
    "                               'external_url' :artist['external_urls']['spotify']}\n",
    "                artist_list.append(artist_dict)"
   ]
  },
  {
   "cell_type": "code",
   "execution_count": 18,
   "id": "16508255",
   "metadata": {
    "scrolled": false
   },
   "outputs": [
    {
     "data": {
      "text/plain": [
       "[{'artist_id': '1HY2Jd0NmPuamShAr6KMms',\n",
       "  'artist_name': 'Lady Gaga',\n",
       "  'external_url': 'https://open.spotify.com/artist/1HY2Jd0NmPuamShAr6KMms'},\n",
       " {'artist_id': '0du5cEVh5yTK9QJze8zA0C',\n",
       "  'artist_name': 'Bruno Mars',\n",
       "  'external_url': 'https://open.spotify.com/artist/0du5cEVh5yTK9QJze8zA0C'},\n",
       " {'artist_id': '6qqNVTkY8uBg9cP3Jd7DAH',\n",
       "  'artist_name': 'Billie Eilish',\n",
       "  'external_url': 'https://open.spotify.com/artist/6qqNVTkY8uBg9cP3Jd7DAH'}]"
      ]
     },
     "execution_count": 18,
     "metadata": {},
     "output_type": "execute_result"
    }
   ],
   "source": [
    "artist_list[:3]"
   ]
  },
  {
   "cell_type": "code",
   "execution_count": 19,
   "id": "32d56d37",
   "metadata": {
    "scrolled": true
   },
   "outputs": [
    {
     "data": {
      "text/plain": [
       "[{'external_urls': {'spotify': 'https://open.spotify.com/artist/1HY2Jd0NmPuamShAr6KMms'},\n",
       "  'href': 'https://api.spotify.com/v1/artists/1HY2Jd0NmPuamShAr6KMms',\n",
       "  'id': '1HY2Jd0NmPuamShAr6KMms',\n",
       "  'name': 'Lady Gaga',\n",
       "  'type': 'artist',\n",
       "  'uri': 'spotify:artist:1HY2Jd0NmPuamShAr6KMms'},\n",
       " {'external_urls': {'spotify': 'https://open.spotify.com/artist/0du5cEVh5yTK9QJze8zA0C'},\n",
       "  'href': 'https://api.spotify.com/v1/artists/0du5cEVh5yTK9QJze8zA0C',\n",
       "  'id': '0du5cEVh5yTK9QJze8zA0C',\n",
       "  'name': 'Bruno Mars',\n",
       "  'type': 'artist',\n",
       "  'uri': 'spotify:artist:0du5cEVh5yTK9QJze8zA0C'}]"
      ]
     },
     "execution_count": 19,
     "metadata": {},
     "output_type": "execute_result"
    }
   ],
   "source": [
    "data['items'][0]['track']['artists']"
   ]
  },
  {
   "cell_type": "code",
   "execution_count": 20,
   "id": "74d0f9cb",
   "metadata": {},
   "outputs": [
    {
     "data": {
      "text/plain": [
       "'2plbrEY59IikOBgBGLjaoe'"
      ]
     },
     "execution_count": 20,
     "metadata": {},
     "output_type": "execute_result"
    }
   ],
   "source": [
    "data['items'][0]['track']['id']"
   ]
  },
  {
   "cell_type": "code",
   "execution_count": 21,
   "id": "12792327",
   "metadata": {},
   "outputs": [
    {
     "data": {
      "text/plain": [
       "'Die With A Smile'"
      ]
     },
     "execution_count": 21,
     "metadata": {},
     "output_type": "execute_result"
    }
   ],
   "source": [
    "data['items'][0]['track']['name']"
   ]
  },
  {
   "cell_type": "code",
   "execution_count": 22,
   "id": "cc4a7e91",
   "metadata": {},
   "outputs": [
    {
     "data": {
      "text/plain": [
       "251667"
      ]
     },
     "execution_count": 22,
     "metadata": {},
     "output_type": "execute_result"
    }
   ],
   "source": [
    "data['items'][0]['track']['duration_ms']"
   ]
  },
  {
   "cell_type": "code",
   "execution_count": 23,
   "id": "eea91a61",
   "metadata": {},
   "outputs": [
    {
     "data": {
      "text/plain": [
       "'https://open.spotify.com/track/2plbrEY59IikOBgBGLjaoe'"
      ]
     },
     "execution_count": 23,
     "metadata": {},
     "output_type": "execute_result"
    }
   ],
   "source": [
    "data['items'][0]['track']['external_urls']['spotify']"
   ]
  },
  {
   "cell_type": "code",
   "execution_count": 24,
   "id": "a9564ef3",
   "metadata": {},
   "outputs": [
    {
     "data": {
      "text/plain": [
       "97"
      ]
     },
     "execution_count": 24,
     "metadata": {},
     "output_type": "execute_result"
    }
   ],
   "source": [
    "data['items'][0]['track']['popularity']"
   ]
  },
  {
   "cell_type": "code",
   "execution_count": 25,
   "id": "cd05a477",
   "metadata": {},
   "outputs": [
    {
     "data": {
      "text/plain": [
       "'2024-09-10T13:00:38Z'"
      ]
     },
     "execution_count": 25,
     "metadata": {},
     "output_type": "execute_result"
    }
   ],
   "source": [
    "data['items'][0]['added_at']"
   ]
  },
  {
   "cell_type": "code",
   "execution_count": 26,
   "id": "700def21",
   "metadata": {},
   "outputs": [
    {
     "data": {
      "text/plain": [
       "'10FLjwfpbxLmW8c25Xyc2N'"
      ]
     },
     "execution_count": 26,
     "metadata": {},
     "output_type": "execute_result"
    }
   ],
   "source": [
    "data['items'][0]['track']['album']['id']"
   ]
  },
  {
   "cell_type": "code",
   "execution_count": 27,
   "id": "7af602a1",
   "metadata": {},
   "outputs": [
    {
     "data": {
      "text/plain": [
       "'1HY2Jd0NmPuamShAr6KMms'"
      ]
     },
     "execution_count": 27,
     "metadata": {},
     "output_type": "execute_result"
    }
   ],
   "source": [
    "data['items'][0]['track']['album']['artists'][0]['id']"
   ]
  },
  {
   "cell_type": "code",
   "execution_count": 28,
   "id": "d75ccf75",
   "metadata": {},
   "outputs": [],
   "source": [
    "song_list = []\n",
    "for row in data['items']:\n",
    "    song_id = row['track']['id']\n",
    "    song_name = row['track']['name']\n",
    "    song_duration = row['track']['duration_ms']\n",
    "    song_url = row['track']['external_urls']['spotify']\n",
    "    song_popularity = row['track']['popularity']\n",
    "    song_added = row['added_at']\n",
    "    album_id = row['track']['album']['id']\n",
    "    artist_id = row['track']['album']['artists'][0]['id']\n",
    "    song_dict = {'song_id':song_id, 'song_name':song_name, 'song_duration':song_duration, 'song_url':song_url,\n",
    "                'song_popularity':song_popularity, 'song_added':song_added, 'album_id':album_id, 'artist_id':artist_id}\n",
    "    song_list.append(song_dict)"
   ]
  },
  {
   "cell_type": "code",
   "execution_count": 29,
   "id": "422aab56",
   "metadata": {
    "scrolled": false
   },
   "outputs": [
    {
     "data": {
      "text/plain": [
       "[{'song_id': '2plbrEY59IikOBgBGLjaoe',\n",
       "  'song_name': 'Die With A Smile',\n",
       "  'song_duration': 251667,\n",
       "  'song_url': 'https://open.spotify.com/track/2plbrEY59IikOBgBGLjaoe',\n",
       "  'song_popularity': 97,\n",
       "  'song_added': '2024-09-10T13:00:38Z',\n",
       "  'album_id': '10FLjwfpbxLmW8c25Xyc2N',\n",
       "  'artist_id': '1HY2Jd0NmPuamShAr6KMms'},\n",
       " {'song_id': '6dOtVTDdiauQNBQEDOtlAB',\n",
       "  'song_name': 'BIRDS OF A FEATHER',\n",
       "  'song_duration': 210373,\n",
       "  'song_url': 'https://open.spotify.com/track/6dOtVTDdiauQNBQEDOtlAB',\n",
       "  'song_popularity': 100,\n",
       "  'song_added': '2024-09-10T13:00:38Z',\n",
       "  'album_id': '7aJuG4TFXa2hmE4z1yxc3n',\n",
       "  'artist_id': '6qqNVTkY8uBg9cP3Jd7DAH'},\n",
       " {'song_id': '5G2f63n7IPVPPjfNIGih7Q',\n",
       "  'song_name': 'Taste',\n",
       "  'song_duration': 157279,\n",
       "  'song_url': 'https://open.spotify.com/track/5G2f63n7IPVPPjfNIGih7Q',\n",
       "  'song_popularity': 94,\n",
       "  'song_added': '2024-09-10T13:00:38Z',\n",
       "  'album_id': '3iPSVi54hsacKKl1xIR2eH',\n",
       "  'artist_id': '74KM79TiuVKeVCqs8QtB0B'}]"
      ]
     },
     "execution_count": 29,
     "metadata": {},
     "output_type": "execute_result"
    }
   ],
   "source": [
    "song_list[:3]"
   ]
  },
  {
   "cell_type": "code",
   "execution_count": 30,
   "id": "b9cf0719",
   "metadata": {},
   "outputs": [],
   "source": [
    "album_df = pd.DataFrame.from_dict(album_list)"
   ]
  },
  {
   "cell_type": "code",
   "execution_count": 31,
   "id": "6e061979",
   "metadata": {},
   "outputs": [
    {
     "data": {
      "text/html": [
       "<div>\n",
       "<style scoped>\n",
       "    .dataframe tbody tr th:only-of-type {\n",
       "        vertical-align: middle;\n",
       "    }\n",
       "\n",
       "    .dataframe tbody tr th {\n",
       "        vertical-align: top;\n",
       "    }\n",
       "\n",
       "    .dataframe thead th {\n",
       "        text-align: right;\n",
       "    }\n",
       "</style>\n",
       "<table border=\"1\" class=\"dataframe\">\n",
       "  <thead>\n",
       "    <tr style=\"text-align: right;\">\n",
       "      <th></th>\n",
       "      <th>album_id</th>\n",
       "      <th>album_name</th>\n",
       "      <th>release_date</th>\n",
       "      <th>total_tracks</th>\n",
       "      <th>url</th>\n",
       "    </tr>\n",
       "  </thead>\n",
       "  <tbody>\n",
       "    <tr>\n",
       "      <th>0</th>\n",
       "      <td>10FLjwfpbxLmW8c25Xyc2N</td>\n",
       "      <td>Die With A Smile</td>\n",
       "      <td>2024-08-16</td>\n",
       "      <td>1</td>\n",
       "      <td>https://open.spotify.com/album/10FLjwfpbxLmW8c...</td>\n",
       "    </tr>\n",
       "    <tr>\n",
       "      <th>1</th>\n",
       "      <td>7aJuG4TFXa2hmE4z1yxc3n</td>\n",
       "      <td>HIT ME HARD AND SOFT</td>\n",
       "      <td>2024-05-17</td>\n",
       "      <td>10</td>\n",
       "      <td>https://open.spotify.com/album/7aJuG4TFXa2hmE4...</td>\n",
       "    </tr>\n",
       "    <tr>\n",
       "      <th>2</th>\n",
       "      <td>3iPSVi54hsacKKl1xIR2eH</td>\n",
       "      <td>Short n' Sweet</td>\n",
       "      <td>2024-08-23</td>\n",
       "      <td>12</td>\n",
       "      <td>https://open.spotify.com/album/3iPSVi54hsacKKl...</td>\n",
       "    </tr>\n",
       "    <tr>\n",
       "      <th>3</th>\n",
       "      <td>15XcLhiVMlSOipUddTNDnr</td>\n",
       "      <td>MUSE</td>\n",
       "      <td>2024-07-19</td>\n",
       "      <td>7</td>\n",
       "      <td>https://open.spotify.com/album/15XcLhiVMlSOipU...</td>\n",
       "    </tr>\n",
       "    <tr>\n",
       "      <th>4</th>\n",
       "      <td>5quMTd5zeI9yW5UDua8wS4</td>\n",
       "      <td>Espresso</td>\n",
       "      <td>2024-04-12</td>\n",
       "      <td>1</td>\n",
       "      <td>https://open.spotify.com/album/5quMTd5zeI9yW5U...</td>\n",
       "    </tr>\n",
       "  </tbody>\n",
       "</table>\n",
       "</div>"
      ],
      "text/plain": [
       "                 album_id            album_name release_date  total_tracks  \\\n",
       "0  10FLjwfpbxLmW8c25Xyc2N      Die With A Smile   2024-08-16             1   \n",
       "1  7aJuG4TFXa2hmE4z1yxc3n  HIT ME HARD AND SOFT   2024-05-17            10   \n",
       "2  3iPSVi54hsacKKl1xIR2eH        Short n' Sweet   2024-08-23            12   \n",
       "3  15XcLhiVMlSOipUddTNDnr                  MUSE   2024-07-19             7   \n",
       "4  5quMTd5zeI9yW5UDua8wS4              Espresso   2024-04-12             1   \n",
       "\n",
       "                                                 url  \n",
       "0  https://open.spotify.com/album/10FLjwfpbxLmW8c...  \n",
       "1  https://open.spotify.com/album/7aJuG4TFXa2hmE4...  \n",
       "2  https://open.spotify.com/album/3iPSVi54hsacKKl...  \n",
       "3  https://open.spotify.com/album/15XcLhiVMlSOipU...  \n",
       "4  https://open.spotify.com/album/5quMTd5zeI9yW5U...  "
      ]
     },
     "execution_count": 31,
     "metadata": {},
     "output_type": "execute_result"
    }
   ],
   "source": [
    "album_df.head()"
   ]
  },
  {
   "cell_type": "code",
   "execution_count": 32,
   "id": "a1883559",
   "metadata": {},
   "outputs": [],
   "source": [
    "artist_df = pd.DataFrame.from_dict(artist_list)"
   ]
  },
  {
   "cell_type": "code",
   "execution_count": 33,
   "id": "ac8182ce",
   "metadata": {},
   "outputs": [
    {
     "data": {
      "text/html": [
       "<div>\n",
       "<style scoped>\n",
       "    .dataframe tbody tr th:only-of-type {\n",
       "        vertical-align: middle;\n",
       "    }\n",
       "\n",
       "    .dataframe tbody tr th {\n",
       "        vertical-align: top;\n",
       "    }\n",
       "\n",
       "    .dataframe thead th {\n",
       "        text-align: right;\n",
       "    }\n",
       "</style>\n",
       "<table border=\"1\" class=\"dataframe\">\n",
       "  <thead>\n",
       "    <tr style=\"text-align: right;\">\n",
       "      <th></th>\n",
       "      <th>artist_id</th>\n",
       "      <th>artist_name</th>\n",
       "      <th>external_url</th>\n",
       "    </tr>\n",
       "  </thead>\n",
       "  <tbody>\n",
       "    <tr>\n",
       "      <th>0</th>\n",
       "      <td>1HY2Jd0NmPuamShAr6KMms</td>\n",
       "      <td>Lady Gaga</td>\n",
       "      <td>https://open.spotify.com/artist/1HY2Jd0NmPuamS...</td>\n",
       "    </tr>\n",
       "    <tr>\n",
       "      <th>1</th>\n",
       "      <td>0du5cEVh5yTK9QJze8zA0C</td>\n",
       "      <td>Bruno Mars</td>\n",
       "      <td>https://open.spotify.com/artist/0du5cEVh5yTK9Q...</td>\n",
       "    </tr>\n",
       "    <tr>\n",
       "      <th>2</th>\n",
       "      <td>6qqNVTkY8uBg9cP3Jd7DAH</td>\n",
       "      <td>Billie Eilish</td>\n",
       "      <td>https://open.spotify.com/artist/6qqNVTkY8uBg9c...</td>\n",
       "    </tr>\n",
       "    <tr>\n",
       "      <th>3</th>\n",
       "      <td>74KM79TiuVKeVCqs8QtB0B</td>\n",
       "      <td>Sabrina Carpenter</td>\n",
       "      <td>https://open.spotify.com/artist/74KM79TiuVKeVC...</td>\n",
       "    </tr>\n",
       "    <tr>\n",
       "      <th>4</th>\n",
       "      <td>1oSPZhvZMIrWW5I41kPkkY</td>\n",
       "      <td>Jimin</td>\n",
       "      <td>https://open.spotify.com/artist/1oSPZhvZMIrWW5...</td>\n",
       "    </tr>\n",
       "  </tbody>\n",
       "</table>\n",
       "</div>"
      ],
      "text/plain": [
       "                artist_id        artist_name  \\\n",
       "0  1HY2Jd0NmPuamShAr6KMms          Lady Gaga   \n",
       "1  0du5cEVh5yTK9QJze8zA0C         Bruno Mars   \n",
       "2  6qqNVTkY8uBg9cP3Jd7DAH      Billie Eilish   \n",
       "3  74KM79TiuVKeVCqs8QtB0B  Sabrina Carpenter   \n",
       "4  1oSPZhvZMIrWW5I41kPkkY              Jimin   \n",
       "\n",
       "                                        external_url  \n",
       "0  https://open.spotify.com/artist/1HY2Jd0NmPuamS...  \n",
       "1  https://open.spotify.com/artist/0du5cEVh5yTK9Q...  \n",
       "2  https://open.spotify.com/artist/6qqNVTkY8uBg9c...  \n",
       "3  https://open.spotify.com/artist/74KM79TiuVKeVC...  \n",
       "4  https://open.spotify.com/artist/1oSPZhvZMIrWW5...  "
      ]
     },
     "execution_count": 33,
     "metadata": {},
     "output_type": "execute_result"
    }
   ],
   "source": [
    "artist_df.head()"
   ]
  },
  {
   "cell_type": "code",
   "execution_count": 34,
   "id": "1673ff7c",
   "metadata": {},
   "outputs": [],
   "source": [
    "song_df = pd.DataFrame.from_dict(song_list)"
   ]
  },
  {
   "cell_type": "code",
   "execution_count": 35,
   "id": "4f309222",
   "metadata": {},
   "outputs": [
    {
     "data": {
      "text/html": [
       "<div>\n",
       "<style scoped>\n",
       "    .dataframe tbody tr th:only-of-type {\n",
       "        vertical-align: middle;\n",
       "    }\n",
       "\n",
       "    .dataframe tbody tr th {\n",
       "        vertical-align: top;\n",
       "    }\n",
       "\n",
       "    .dataframe thead th {\n",
       "        text-align: right;\n",
       "    }\n",
       "</style>\n",
       "<table border=\"1\" class=\"dataframe\">\n",
       "  <thead>\n",
       "    <tr style=\"text-align: right;\">\n",
       "      <th></th>\n",
       "      <th>song_id</th>\n",
       "      <th>song_name</th>\n",
       "      <th>song_duration</th>\n",
       "      <th>song_url</th>\n",
       "      <th>song_popularity</th>\n",
       "      <th>song_added</th>\n",
       "      <th>album_id</th>\n",
       "      <th>artist_id</th>\n",
       "    </tr>\n",
       "  </thead>\n",
       "  <tbody>\n",
       "    <tr>\n",
       "      <th>0</th>\n",
       "      <td>2plbrEY59IikOBgBGLjaoe</td>\n",
       "      <td>Die With A Smile</td>\n",
       "      <td>251667</td>\n",
       "      <td>https://open.spotify.com/track/2plbrEY59IikOBg...</td>\n",
       "      <td>97</td>\n",
       "      <td>2024-09-10T13:00:38Z</td>\n",
       "      <td>10FLjwfpbxLmW8c25Xyc2N</td>\n",
       "      <td>1HY2Jd0NmPuamShAr6KMms</td>\n",
       "    </tr>\n",
       "    <tr>\n",
       "      <th>1</th>\n",
       "      <td>6dOtVTDdiauQNBQEDOtlAB</td>\n",
       "      <td>BIRDS OF A FEATHER</td>\n",
       "      <td>210373</td>\n",
       "      <td>https://open.spotify.com/track/6dOtVTDdiauQNBQ...</td>\n",
       "      <td>100</td>\n",
       "      <td>2024-09-10T13:00:38Z</td>\n",
       "      <td>7aJuG4TFXa2hmE4z1yxc3n</td>\n",
       "      <td>6qqNVTkY8uBg9cP3Jd7DAH</td>\n",
       "    </tr>\n",
       "    <tr>\n",
       "      <th>2</th>\n",
       "      <td>5G2f63n7IPVPPjfNIGih7Q</td>\n",
       "      <td>Taste</td>\n",
       "      <td>157279</td>\n",
       "      <td>https://open.spotify.com/track/5G2f63n7IPVPPjf...</td>\n",
       "      <td>94</td>\n",
       "      <td>2024-09-10T13:00:38Z</td>\n",
       "      <td>3iPSVi54hsacKKl1xIR2eH</td>\n",
       "      <td>74KM79TiuVKeVCqs8QtB0B</td>\n",
       "    </tr>\n",
       "    <tr>\n",
       "      <th>3</th>\n",
       "      <td>7tI8dRuH2Yc6RuoTjxo4dU</td>\n",
       "      <td>Who</td>\n",
       "      <td>170887</td>\n",
       "      <td>https://open.spotify.com/track/7tI8dRuH2Yc6Ruo...</td>\n",
       "      <td>94</td>\n",
       "      <td>2024-09-10T13:00:38Z</td>\n",
       "      <td>15XcLhiVMlSOipUddTNDnr</td>\n",
       "      <td>1oSPZhvZMIrWW5I41kPkkY</td>\n",
       "    </tr>\n",
       "    <tr>\n",
       "      <th>4</th>\n",
       "      <td>2qSkIjg1o9h3YT9RAgYN75</td>\n",
       "      <td>Espresso</td>\n",
       "      <td>175459</td>\n",
       "      <td>https://open.spotify.com/track/2qSkIjg1o9h3YT9...</td>\n",
       "      <td>97</td>\n",
       "      <td>2024-09-10T13:00:38Z</td>\n",
       "      <td>5quMTd5zeI9yW5UDua8wS4</td>\n",
       "      <td>74KM79TiuVKeVCqs8QtB0B</td>\n",
       "    </tr>\n",
       "  </tbody>\n",
       "</table>\n",
       "</div>"
      ],
      "text/plain": [
       "                  song_id           song_name  song_duration  \\\n",
       "0  2plbrEY59IikOBgBGLjaoe    Die With A Smile         251667   \n",
       "1  6dOtVTDdiauQNBQEDOtlAB  BIRDS OF A FEATHER         210373   \n",
       "2  5G2f63n7IPVPPjfNIGih7Q               Taste         157279   \n",
       "3  7tI8dRuH2Yc6RuoTjxo4dU                 Who         170887   \n",
       "4  2qSkIjg1o9h3YT9RAgYN75            Espresso         175459   \n",
       "\n",
       "                                            song_url  song_popularity  \\\n",
       "0  https://open.spotify.com/track/2plbrEY59IikOBg...               97   \n",
       "1  https://open.spotify.com/track/6dOtVTDdiauQNBQ...              100   \n",
       "2  https://open.spotify.com/track/5G2f63n7IPVPPjf...               94   \n",
       "3  https://open.spotify.com/track/7tI8dRuH2Yc6Ruo...               94   \n",
       "4  https://open.spotify.com/track/2qSkIjg1o9h3YT9...               97   \n",
       "\n",
       "             song_added                album_id               artist_id  \n",
       "0  2024-09-10T13:00:38Z  10FLjwfpbxLmW8c25Xyc2N  1HY2Jd0NmPuamShAr6KMms  \n",
       "1  2024-09-10T13:00:38Z  7aJuG4TFXa2hmE4z1yxc3n  6qqNVTkY8uBg9cP3Jd7DAH  \n",
       "2  2024-09-10T13:00:38Z  3iPSVi54hsacKKl1xIR2eH  74KM79TiuVKeVCqs8QtB0B  \n",
       "3  2024-09-10T13:00:38Z  15XcLhiVMlSOipUddTNDnr  1oSPZhvZMIrWW5I41kPkkY  \n",
       "4  2024-09-10T13:00:38Z  5quMTd5zeI9yW5UDua8wS4  74KM79TiuVKeVCqs8QtB0B  "
      ]
     },
     "execution_count": 35,
     "metadata": {},
     "output_type": "execute_result"
    }
   ],
   "source": [
    "song_df.head()"
   ]
  },
  {
   "cell_type": "markdown",
   "id": "a12a3a69",
   "metadata": {},
   "source": [
    "###### Wrong Datatype"
   ]
  },
  {
   "cell_type": "code",
   "execution_count": 36,
   "id": "100b81c1",
   "metadata": {},
   "outputs": [
    {
     "name": "stdout",
     "output_type": "stream",
     "text": [
      "<class 'pandas.core.frame.DataFrame'>\n",
      "RangeIndex: 50 entries, 0 to 49\n",
      "Data columns (total 5 columns):\n",
      " #   Column        Non-Null Count  Dtype \n",
      "---  ------        --------------  ----- \n",
      " 0   album_id      50 non-null     object\n",
      " 1   album_name    50 non-null     object\n",
      " 2   release_date  50 non-null     object\n",
      " 3   total_tracks  50 non-null     int64 \n",
      " 4   url           50 non-null     object\n",
      "dtypes: int64(1), object(4)\n",
      "memory usage: 2.1+ KB\n"
     ]
    }
   ],
   "source": [
    "album_df.info()"
   ]
  },
  {
   "cell_type": "code",
   "execution_count": 40,
   "id": "c05a0035",
   "metadata": {},
   "outputs": [],
   "source": [
    "album_df['release_date'] = pd.to_datetime(album_df['release_date'], errors='coerce')"
   ]
  },
  {
   "cell_type": "code",
   "execution_count": 41,
   "id": "bdab8d75",
   "metadata": {},
   "outputs": [
    {
     "name": "stdout",
     "output_type": "stream",
     "text": [
      "<class 'pandas.core.frame.DataFrame'>\n",
      "RangeIndex: 50 entries, 0 to 49\n",
      "Data columns (total 5 columns):\n",
      " #   Column        Non-Null Count  Dtype         \n",
      "---  ------        --------------  -----         \n",
      " 0   album_id      50 non-null     object        \n",
      " 1   album_name    50 non-null     object        \n",
      " 2   release_date  49 non-null     datetime64[ns]\n",
      " 3   total_tracks  50 non-null     int64         \n",
      " 4   url           50 non-null     object        \n",
      "dtypes: datetime64[ns](1), int64(1), object(3)\n",
      "memory usage: 2.1+ KB\n"
     ]
    }
   ],
   "source": [
    "album_df.info()"
   ]
  },
  {
   "cell_type": "code",
   "execution_count": 42,
   "id": "0e010170",
   "metadata": {},
   "outputs": [],
   "source": [
    "song_df['song_added'] = pd.to_datetime(song_df['song_added'], errors='coerce')"
   ]
  },
  {
   "cell_type": "code",
   "execution_count": 43,
   "id": "0ca28951",
   "metadata": {},
   "outputs": [
    {
     "name": "stdout",
     "output_type": "stream",
     "text": [
      "<class 'pandas.core.frame.DataFrame'>\n",
      "RangeIndex: 50 entries, 0 to 49\n",
      "Data columns (total 8 columns):\n",
      " #   Column           Non-Null Count  Dtype              \n",
      "---  ------           --------------  -----              \n",
      " 0   song_id          50 non-null     object             \n",
      " 1   song_name        50 non-null     object             \n",
      " 2   song_duration    50 non-null     int64              \n",
      " 3   song_url         50 non-null     object             \n",
      " 4   song_popularity  50 non-null     int64              \n",
      " 5   song_added       50 non-null     datetime64[ns, UTC]\n",
      " 6   album_id         50 non-null     object             \n",
      " 7   artist_id        50 non-null     object             \n",
      "dtypes: datetime64[ns, UTC](1), int64(2), object(5)\n",
      "memory usage: 3.2+ KB\n"
     ]
    }
   ],
   "source": [
    "song_df.info()"
   ]
  },
  {
   "cell_type": "code",
   "execution_count": null,
   "id": "b8abd4f6",
   "metadata": {},
   "outputs": [],
   "source": []
  }
 ],
 "metadata": {
  "kernelspec": {
   "display_name": "Python 3 (ipykernel)",
   "language": "python",
   "name": "python3"
  },
  "language_info": {
   "codemirror_mode": {
    "name": "ipython",
    "version": 3
   },
   "file_extension": ".py",
   "mimetype": "text/x-python",
   "name": "python",
   "nbconvert_exporter": "python",
   "pygments_lexer": "ipython3",
   "version": "3.10.3"
  }
 },
 "nbformat": 4,
 "nbformat_minor": 5
}
